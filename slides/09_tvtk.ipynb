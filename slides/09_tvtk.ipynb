{
 "cells": [
  {
   "cell_type": "markdown",
   "metadata": {
    "slideshow": {
     "slide_type": "slide"
    }
   },
   "source": [
    "# VTK, TVTK, and odds and ends\n",
    "\n",
    "**Prabhu Ramachandran**\n",
    "\n",
    "**Department of Aerospace Engineering, IIT Bombay**\n",
    "\n",
    "<br/>\n"
   ]
  },
  {
   "cell_type": "markdown",
   "metadata": {
    "slideshow": {
     "slide_type": "slide"
    }
   },
   "source": [
    "## Outline\n",
    "\n",
    "- VTK\n",
    "- TVTK\n",
    "- Odds and ends\n"
   ]
  },
  {
   "cell_type": "markdown",
   "metadata": {
    "slideshow": {
     "slide_type": "slide"
    }
   },
   "source": [
    "## Outline\n",
    "\n",
    "- **VTK** $\\Longleftarrow$\n",
    "- TVTK\n",
    "- Odds and ends\n"
   ]
  },
  {
   "cell_type": "markdown",
   "metadata": {
    "slideshow": {
     "slide_type": "slide"
    }
   },
   "source": [
    "## http://www.vtk.org\n"
   ]
  },
  {
   "cell_type": "markdown",
   "metadata": {
    "slideshow": {
     "slide_type": "slide"
    }
   },
   "source": [
    "## Introduction\n",
    "\n",
    "* Open source, BSD style license\n",
    "\n",
    "* High level library\n",
    "\n",
    "* 3D graphics, imaging and visualization\n",
    "\n",
    "* Core implemented in C++ for speed\n",
    "\n",
    "* Uses OpenGL\n",
    "\n",
    "* Wrappers for Python, Tcl and Java\n",
    "\n",
    "* Cross platform: Unix, Windows, and MacOS\n",
    "\n",
    "* Many developers worldwide\n",
    "\n",
    "* Very powerful with lots of features/functionality\n"
   ]
  },
  {
   "cell_type": "markdown",
   "metadata": {
    "slideshow": {
     "slide_type": "slide"
    }
   },
   "source": [
    "## VTK: history\n",
    "\n",
    "* Started in 1993\n",
    "\n",
    "* Software to accompany the \"VTK book\"\n",
    "\n",
    "* Very popular with a large developer community\n",
    "\n",
    "* Latest version VTK 8.x\n",
    "\n",
    "* 6.x broke compatibility with the \"new pipeline\"\n",
    "\n",
    "* 7.x and above supports Python 3!\n"
   ]
  },
  {
   "cell_type": "markdown",
   "metadata": {
    "slideshow": {
     "slide_type": "slide"
    }
   },
   "source": [
    "## VTK: an overview\n",
    "\n",
    "* Pipeline architecture\n",
    "\n",
    "* **Huge** with over 2000 classes\n",
    "\n",
    "* Not trivial to learn\n",
    "\n",
    "* Need to get the VTK book (which is now free)\n",
    "\n",
    "* Reasonable learning curve\n"
   ]
  },
  {
   "cell_type": "markdown",
   "metadata": {
    "slideshow": {
     "slide_type": "slide"
    }
   },
   "source": [
    "## Installation\n",
    "\n",
    "* Build from source: requires <http://cmake.org>\n",
    "* Can download binaries\n",
    "* Can now install via `pip`\n"
   ]
  },
  {
   "cell_type": "markdown",
   "metadata": {
    "slideshow": {
     "slide_type": "slide"
    }
   },
   "source": [
    "## VTK / TVTK pipeline\n",
    "\n",
    "<center>\n",
    "<img src=\"MEDIA/m2/vtk_pipeline.png\" width=\"60%\" height=\"80%\" />\n",
    "</center>\n"
   ]
  },
  {
   "cell_type": "markdown",
   "metadata": {
    "slideshow": {
     "slide_type": "slide"
    }
   },
   "source": [
    "## Example VTK script\n"
   ]
  },
  {
   "cell_type": "code",
   "execution_count": null,
   "metadata": {},
   "outputs": [],
   "source": [
    "import vtk\n",
    "# Source object.\n",
    "cone = vtk.vtkConeSource()\n",
    "cone.SetHeight(3.0)\n",
    "cone.SetRadius(1.0)\n",
    "cone.SetResolution(10)\n",
    "# The mapper.\n",
    "coneMapper = vtk.vtkPolyDataMapper()\n",
    "coneMapper.SetInputConnection(cone.GetOutputPort())\n",
    "# The actor.\n",
    "coneActor = vtk.vtkActor()\n",
    "coneActor.SetMapper(coneMapper)\n",
    "# Set it to render in wireframe\n",
    "coneActor.GetProperty().SetRepresentationToWireframe()"
   ]
  },
  {
   "cell_type": "markdown",
   "metadata": {
    "slideshow": {
     "slide_type": "slide"
    }
   },
   "source": [
    "## Render window stuff\n"
   ]
  },
  {
   "cell_type": "code",
   "execution_count": null,
   "metadata": {},
   "outputs": [],
   "source": [
    "# Renderwindow stuff\n",
    "ren = vtk.vtkRenderer()\n",
    "ren.AddActor(coneActor)\n",
    "ren.SetBackground(0.2, 0.2, 0.2)\n",
    "\n",
    "renWin = vtk.vtkRenderWindow()\n",
    "renWin.AddRenderer(ren)\n",
    "renWin.SetSize(500, 500)\n",
    "\n",
    "iren = vtk.vtkRenderWindowInteractor()\n",
    "iren.SetRenderWindow(renWin)\n",
    "\n",
    "style = vtk.vtkInteractorStyleTrackballCamera()\n",
    "iren.SetInteractorStyle(style)\n",
    "iren.Initialize()\n",
    "\n",
    "# Start interactive interface\n",
    "iren.Start()"
   ]
  },
  {
   "cell_type": "markdown",
   "metadata": {
    "slideshow": {
     "slide_type": "slide"
    }
   },
   "source": [
    "## Using `tvtk.tools.ivtk`\n"
   ]
  },
  {
   "cell_type": "code",
   "execution_count": null,
   "metadata": {},
   "outputs": [],
   "source": [
    "%gui qt"
   ]
  },
  {
   "cell_type": "code",
   "execution_count": null,
   "metadata": {},
   "outputs": [],
   "source": [
    "from tvtk.tools import ivtk\n",
    "v = ivtk.viewer()\n",
    "v.scene.add_actors(coneActor)\n",
    "\n",
    "# This is just to show the view in standalone\n",
    "from mayavi import mlab\n",
    "mlab.show()"
   ]
  },
  {
   "cell_type": "markdown",
   "metadata": {},
   "source": [
    "* Demo of the viewer\n",
    "\n",
    "* Pipeline browser is super useful\n",
    "\n",
    "* Can turn off browser if not needed\n"
   ]
  },
  {
   "cell_type": "markdown",
   "metadata": {
    "slideshow": {
     "slide_type": "slide"
    }
   },
   "source": [
    "## Sample VTK sources/filters\n",
    "\n",
    "* `vtkConeSource`\n",
    "* `vtkXMLStructuredGridReader`\n",
    "* `vtkContourFilter`\n"
   ]
  },
  {
   "cell_type": "markdown",
   "metadata": {
    "slideshow": {
     "slide_type": "slide"
    }
   },
   "source": [
    "## A bigger example\n"
   ]
  },
  {
   "cell_type": "code",
   "execution_count": null,
   "metadata": {},
   "outputs": [],
   "source": [
    "r = vtk.vtkXMLUnstructuredGridReader()\n",
    "r.SetFileName('data/fire_ug.vtu')\n",
    "\n",
    "c = vtk.vtkContourFilter()\n",
    "c.SetInputConnection(r.GetOutputPort())\n",
    "c.GenerateValues(2, 350, 450)\n",
    "\n",
    "m = vtk.vtkPolyDataMapper()\n",
    "m.SetInputConnection(c.GetOutputPort())\n",
    "m.SetScalarRange(0, 500)\n",
    "\n",
    "actor = vtk.vtkActor()\n",
    "actor.SetMapper(m)"
   ]
  },
  {
   "cell_type": "markdown",
   "metadata": {
    "slideshow": {
     "slide_type": "slide"
    }
   },
   "source": [
    "## Showing it\n"
   ]
  },
  {
   "cell_type": "code",
   "execution_count": null,
   "metadata": {},
   "outputs": [],
   "source": [
    "from tvtk.tools import ivtk\n",
    "v = ivtk.viewer()\n",
    "v.scene.add_actors(actor)"
   ]
  },
  {
   "cell_type": "markdown",
   "metadata": {},
   "source": [
    "<center>\n",
    "<img src=\"MEDIA/m2/vtk_example.png\"/>\n",
    "<center>\n"
   ]
  },
  {
   "cell_type": "markdown",
   "metadata": {
    "slideshow": {
     "slide_type": "slide"
    }
   },
   "source": [
    "## Python interfaces\n",
    "\n",
    "* A lot of nice new functionality in VTK > 6.x\n",
    "\n",
    "* `vtk.numpy_interface`\n",
    "* See [NumPy VTK blog](http://blog.kitware.com/improved-vtk-numpy-integration/)\n"
   ]
  },
  {
   "cell_type": "markdown",
   "metadata": {
    "slideshow": {
     "slide_type": "slide"
    }
   },
   "source": [
    "## Python UI interfaces\n",
    "\n",
    "* Widgets for embedding\n",
    "\n",
    "* Qt\n",
    "\n",
    "* wxPython\n",
    "\n",
    "* GTK\n",
    "\n",
    "* Tkinter\n"
   ]
  },
  {
   "cell_type": "markdown",
   "metadata": {
    "slideshow": {
     "slide_type": "slide"
    }
   },
   "source": [
    "## Outline\n",
    "\n",
    "- VTK\n",
    "- **TVTK** $\\Longleftarrow$\n",
    "- Odds and ends\n"
   ]
  },
  {
   "cell_type": "markdown",
   "metadata": {
    "slideshow": {
     "slide_type": "slide"
    }
   },
   "source": [
    "## Issues with VTK\n",
    "\n",
    "* API is not Pythonic for complex scripts\n",
    "* Native array interface\n",
    "* Using NumPy arrays: non-trivial and inelegant\n",
    "* Native iterator interface\n",
    "* Cannot be pickled\n",
    "* GUI editors need to be \"hand-made\"\n"
   ]
  },
  {
   "cell_type": "markdown",
   "metadata": {
    "slideshow": {
     "slide_type": "slide"
    }
   },
   "source": [
    "## Introduction to TVTK\n",
    "\n",
    "* \"Traitified\" and Pythonic wrapper atop VTK\n",
    "\n",
    "* Elementary pickle support\n",
    "\n",
    "* `Get/SetAttribute()` replaced with an `attribute` trait\n",
    "\n",
    "* Handles numpy arrays/Python lists transparently\n",
    "\n",
    "* Utility modules: pipeline browser, ivtk, mlab\n",
    "\n",
    "* Envisage plugins for tvtk scene and pipeline browser\n",
    "\n",
    "* BSD license\n",
    "\n",
    "* Linux, Win32 and Mac OS\n"
   ]
  },
  {
   "cell_type": "markdown",
   "metadata": {
    "slideshow": {
     "slide_type": "slide"
    }
   },
   "source": [
    "## Example TVTK script\n"
   ]
  },
  {
   "cell_type": "code",
   "execution_count": null,
   "metadata": {},
   "outputs": [],
   "source": [
    "from tvtk.api import tvtk\n",
    "cone = tvtk.ConeSource(height=3.0, radius=1.0, resolution=10)\n",
    "coneMapper = tvtk.PolyDataMapper(\n",
    "    input_connection=cone.output_port\n",
    ")\n",
    "p = tvtk.Property(representation='w')\n",
    "coneActor = tvtk.Actor(mapper=coneMapper, property=p)"
   ]
  },
  {
   "cell_type": "markdown",
   "metadata": {
    "slideshow": {
     "slide_type": "slide"
    }
   },
   "source": [
    "## The differences\n",
    "\n",
    "|   VTK               |  TVTK     |\n",
    "| ------------------  | --------- |\n",
    "| `import vtk`        | `from tvtk.api import tvtk` |\n",
    "| `vtk.vtkConeSource` | `tvtk.ConeSource`  |\n",
    "| no constructor args | traits set on creation |\n",
    "| `cone.GetHeight()`  | cone.height |\n",
    "| `cone.SetRepresentation()`  | `cone.representation='w'` |\n",
    "\n",
    "* `vtk3DWidget`  $ \\rightarrow$ `ThreeDWidget`\n",
    "* Method names: `lower_case_with_underscores`\n",
    "\n",
    "* VTK class properties (Set/Get pairs or Getters): traits\n"
   ]
  },
  {
   "cell_type": "markdown",
   "metadata": {
    "slideshow": {
     "slide_type": "slide"
    }
   },
   "source": [
    "## TVTK and traits\n",
    "\n",
    "* Attributes may be set on object creation\n",
    "\n",
    "* Multiple properties may be set via `trait_set`\n",
    "* Handy access to properties\n",
    "\n",
    "* Usual trait features (validation/notification)\n",
    "\n",
    "* Visualization via automatic GUI\n",
    "\n",
    "* `tvtk`  objects have strict traits\n",
    "\n",
    "* `pickle`  and `cPickle`  can be used\n"
   ]
  },
  {
   "cell_type": "markdown",
   "metadata": {
    "slideshow": {
     "slide_type": "slide"
    }
   },
   "source": [
    "## Collections behave like sequences\n"
   ]
  },
  {
   "cell_type": "code",
   "execution_count": null,
   "metadata": {},
   "outputs": [],
   "source": [
    "ac = tvtk.ActorCollection()\n",
    "print(len(ac))"
   ]
  },
  {
   "cell_type": "code",
   "execution_count": null,
   "metadata": {},
   "outputs": [],
   "source": [
    "ac.append(tvtk.Actor())\n",
    "print(len(ac))"
   ]
  },
  {
   "cell_type": "code",
   "execution_count": null,
   "metadata": {},
   "outputs": [],
   "source": [
    "for i in ac:\n",
    "    print(i)"
   ]
  },
  {
   "cell_type": "code",
   "execution_count": null,
   "metadata": {},
   "outputs": [],
   "source": [
    "ac[-1] = tvtk.Actor()\n",
    "del ac[0]\n",
    "print(len(ac))"
   ]
  },
  {
   "cell_type": "markdown",
   "metadata": {
    "slideshow": {
     "slide_type": "slide"
    }
   },
   "source": [
    "## Array handling\n",
    "\n",
    "* All `DataArray`  subclasses behave like Pythonic arrays:\n",
    "\n",
    "* Can set array using `vtk_array.from_array(numpy_array)`\n",
    "* Can get the array into a NumPy array via `numpy_arr = vtk_array.to_array()`\n",
    "* `Points`  and `IdList` : support these\n",
    "\n",
    "* `CellArray`  does not provide a sequence like protocol\n",
    "\n",
    "* All methods and properties that accept a `DataArray, Points` etc.\n",
    "  transparently accept a NumPy array or a Python list!\n",
    "\n",
    "* Most often these use views of the NumPy array!\n"
   ]
  },
  {
   "cell_type": "markdown",
   "metadata": {
    "slideshow": {
     "slide_type": "slide"
    }
   },
   "source": [
    "## Array example\n",
    "\n",
    "Any method accepting `DataArray` , `Points` , `IdList` or `CellArray`\n",
    "instances can be passed a numpy array or a Python list!\n"
   ]
  },
  {
   "cell_type": "code",
   "execution_count": null,
   "metadata": {
    "slideshow": {
     "slide_type": "slide"
    }
   },
   "outputs": [],
   "source": [
    "from tvtk.api import tvtk\n",
    "from numpy import array\n",
    "points = array([[0,0,0], [1,0,0], [0,1,0], [0,0,1]], 'f')\n",
    "triangles = array([[0,1,3], [0,3,2], [1,2,3], [0,2,1]])\n",
    "mesh = tvtk.PolyData()\n",
    "mesh.points = points\n",
    "mesh.polys = triangles\n",
    "temperature = array([10, 20 ,20, 30], 'f')\n",
    "mesh.point_data.scalars = temperature\n",
    "import operator # Array's are Pythonic.\n",
    "reduce(operator.add, mesh.point_data.scalars, 0.0)\n",
    "\n",
    "pts = tvtk.Points() # Demo of from_array/to_array\n",
    "pts.from_array(points)\n",
    "print(pts.to_array())"
   ]
  },
  {
   "cell_type": "markdown",
   "metadata": {
    "slideshow": {
     "slide_type": "slide"
    }
   },
   "source": [
    "## Array example: contrast with VTK\n",
    "### VTK and arrays\n"
   ]
  },
  {
   "cell_type": "code",
   "execution_count": null,
   "metadata": {},
   "outputs": [],
   "source": [
    "mesh = vtk.vtkPolyData()\n",
    "# Assume that the points and triangles are set.\n",
    "sc = vtk.vtkFloatArray()\n",
    "sc.SetNumberOfTuples(4)\n",
    "sc.SetNumberOfComponents(1)\n",
    "for i, temp in enumerate(temperatures):\n",
    "   sc.SetValue(i, temp)\n",
    "\n",
    "mesh.GetPointData().SetScalars(sc)"
   ]
  },
  {
   "cell_type": "markdown",
   "metadata": {},
   "source": [
    "\n",
    "Equivalent to (but lot more inefficient than)\n",
    "\n",
    "### TVTK and arrays\n"
   ]
  },
  {
   "cell_type": "code",
   "execution_count": null,
   "metadata": {},
   "outputs": [],
   "source": [
    "mesh.point_data.scalars = temperature"
   ]
  },
  {
   "cell_type": "markdown",
   "metadata": {
    "slideshow": {
     "slide_type": "slide"
    }
   },
   "source": [
    "## Some issues with array handling\n",
    "\n",
    "* Details of array handling documented in `tvtk` docs\n",
    "* Views and copies: a copy is made of the array in the following\n",
    "  cases:\n",
    "\n",
    "    * Python list is passed\n",
    "\n",
    "    * Non-contiguous numpy array\n",
    "\n",
    "    * Method requiring conversion to a `vtkBitArray`\n",
    "\n",
    "    * Rarely: VTK data array expected and passed numpy array types\n",
    "      are different\n",
    "\n",
    "    * `CellArray` always makes a copy on assignment\n"
   ]
  },
  {
   "cell_type": "markdown",
   "metadata": {
    "slideshow": {
     "slide_type": "slide"
    }
   },
   "source": [
    "## Summary of array issues\n",
    "\n",
    "* `DataArray, Points` do not make copies usually\n",
    "\n",
    "* Can safely delete references to a numpy array\n",
    "\n",
    "* Cannot resize numpy array\n",
    "\n",
    "* `CellArray`  makes a copy unless `set_cells`  is used\n",
    "\n",
    "* Warning: Resizing the TVTK array reallocates memory: leads to a copy\n"
   ]
  },
  {
   "cell_type": "markdown",
   "metadata": {
    "slideshow": {
     "slide_type": "slide"
    }
   },
   "source": [
    "## Outline\n",
    "\n",
    "- VTK\n",
    "- TVTK\n",
    "- **Odds and ends**  $\\Longleftarrow$\n"
   ]
  },
  {
   "cell_type": "markdown",
   "metadata": {
    "slideshow": {
     "slide_type": "slide"
    }
   },
   "source": [
    "## Inline IPython support\n",
    "\n",
    "- Three different backends:\n",
    "\n",
    "  - `'ipy'`: the default, needs `ipywidgets` and `ipyevents`\n",
    "  - `'x3d'`: embeds X3D in the notebook, requires WebGL support.\n",
    "  - `'png'`: only embeds a PNG, non interactive.\n"
   ]
  },
  {
   "cell_type": "markdown",
   "metadata": {
    "slideshow": {
     "slide_type": "slide"
    }
   },
   "source": [
    "## Inline IPython support: ipywidgets backend\n",
    "\n",
    "- Needs VTK to produce correct offscreen images\n",
    "- Fully interactive\n",
    "- Supports complete UI interaction\n",
    "- Will work remotely also but needs kernel\n",
    "- Does not need WebGL in browser\n",
    "- Only in latest release, or master\n",
    "- `pip install ipywidgets ipyevents`\n"
   ]
  },
  {
   "cell_type": "markdown",
   "metadata": {
    "slideshow": {
     "slide_type": "slide"
    }
   },
   "source": [
    "## Inline IPython support: x3d backend\n",
    "\n",
    "- Embeds X3D in browser\n",
    "- Needs WebGL support in browser\n",
    "- Extra installation needed to work offline\n",
    "- Somewhat interactive, does not need server\n",
    "- Cannot interact with widgets\n"
   ]
  },
  {
   "cell_type": "code",
   "execution_count": null,
   "metadata": {},
   "outputs": [],
   "source": [
    "$ jupyter nbextension install --py mayavi --user\n",
    "$ jupyter nbextension enable --py mayavi --user"
   ]
  },
  {
   "cell_type": "markdown",
   "metadata": {},
   "source": [
    "## Demo\n",
    "\n",
    "Usage in demo notebook, `notebooks/mayavi_jupyter.ipynb`\n"
   ]
  },
  {
   "cell_type": "markdown",
   "metadata": {
    "slideshow": {
     "slide_type": "slide"
    }
   },
   "source": [
    "## Offscreen rendering\n",
    "\n",
    "* Depends on hardware, OS, build\n",
    "\n",
    "* Basics are easy\n"
   ]
  },
  {
   "cell_type": "code",
   "execution_count": null,
   "metadata": {
    "slideshow": {
     "slide_type": "-"
    }
   },
   "outputs": [],
   "source": [
    "from mayavi import mlab\n",
    "mlab.options.offscreen = True\n",
    "mlab.test_plot3d()\n",
    "mlab.savefig('/tmp/test.png')"
   ]
  },
  {
   "cell_type": "markdown",
   "metadata": {
    "slideshow": {
     "slide_type": "slide"
    }
   },
   "source": [
    "## Ray-traced images with Povray\n",
    "\n",
    "* Save figure to povray file\n",
    "\n",
    "* <http://povray.org>\n",
    "* Install povray and render\n"
   ]
  },
  {
   "cell_type": "code",
   "execution_count": null,
   "metadata": {},
   "outputs": [],
   "source": [
    "from mayavi import mlab\n",
    "mlab.test_plot3d()\n",
    "mlab.savefig('test_povray.pov')"
   ]
  },
  {
   "cell_type": "code",
   "execution_count": null,
   "metadata": {},
   "outputs": [],
   "source": [
    "!povray +Itest_povray.pov +W1024 +H1024"
   ]
  },
  {
   "cell_type": "markdown",
   "metadata": {
    "slideshow": {
     "slide_type": "slide"
    }
   },
   "source": [
    "## Result\n",
    "\n",
    "<center>\n",
    "<img src=\"MEDIA/m2/test_povray.png\"/>\n",
    "</center>\n"
   ]
  },
  {
   "cell_type": "markdown",
   "metadata": {
    "slideshow": {
     "slide_type": "slide"
    }
   },
   "source": [
    "## Thank you!\n"
   ]
  }
 ],
 "metadata": {
  "celltoolbar": "Slideshow",
  "kernelspec": {
   "display_name": "Python 3",
   "language": "python",
   "name": "python3"
  },
  "language_info": {
   "codemirror_mode": {
    "name": "ipython",
    "version": 3
   },
   "file_extension": ".py",
   "mimetype": "text/x-python",
   "name": "python",
   "nbconvert_exporter": "python",
   "pygments_lexer": "ipython3",
   "version": "3.6.0"
  },
  "livereveal": {
   "controls": true,
   "help": true,
   "scroll": true,
   "slideNumber": true,
   "transition": "none"
  }
 },
 "nbformat": 4,
 "nbformat_minor": 2
}
