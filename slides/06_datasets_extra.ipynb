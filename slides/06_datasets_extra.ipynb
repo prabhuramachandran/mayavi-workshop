{
 "cells": [
  {
   "cell_type": "markdown",
   "metadata": {
    "slideshow": {
     "slide_type": "slide"
    }
   },
   "source": [
    "# VTK/Mayavi Datasets and Filters\n",
    "\n",
    "**Prabhu Ramachandran**\n",
    "\n",
    "**Department of Aerospace Engineering, IIT Bombay**\n",
    "\n",
    "<br/>\n"
   ]
  },
  {
   "cell_type": "markdown",
   "metadata": {
    "slideshow": {
     "slide_type": "slide"
    }
   },
   "source": [
    "## Illustration of how to view unstructured points\n",
    "\n",
    "Let us say you have a random collection of points and scalars associated\n",
    "with them but DO NOT know the topology. What do you do?\n"
   ]
  },
  {
   "cell_type": "code",
   "execution_count": null,
   "metadata": {},
   "outputs": [],
   "source": [
    "# Some random data.\n",
    "import numpy as np\n",
    "x, y = np.random.random((2, 100))\n",
    "s = x*x + y*y\n",
    "z = np.ones_like(x)"
   ]
  },
  {
   "cell_type": "markdown",
   "metadata": {
    "slideshow": {
     "slide_type": "slide"
    }
   },
   "source": [
    "## Let's visualize it!\n"
   ]
  },
  {
   "cell_type": "code",
   "execution_count": null,
   "metadata": {},
   "outputs": [],
   "source": [
    "%gui qt\n",
    "from mayavi import mlab\n",
    "from tvtk.api import tvtk"
   ]
  },
  {
   "cell_type": "code",
   "execution_count": null,
   "metadata": {},
   "outputs": [],
   "source": [
    "# If you want a different background!\n",
    "fig = mlab.figure(bgcolor=(1,1,1), fgcolor=(0,0,0))"
   ]
  },
  {
   "cell_type": "code",
   "execution_count": null,
   "metadata": {},
   "outputs": [],
   "source": [
    "src = mlab.pipeline.scalar_scatter(x, y, z, s)"
   ]
  },
  {
   "cell_type": "code",
   "execution_count": null,
   "metadata": {},
   "outputs": [],
   "source": [
    "ug = mlab.pipeline.delaunay2d(src)"
   ]
  },
  {
   "cell_type": "code",
   "execution_count": null,
   "metadata": {},
   "outputs": [],
   "source": [
    "surf = mlab.pipeline.surface(ug)\n",
    "surf.actor.property.edge_visibility = True"
   ]
  },
  {
   "cell_type": "markdown",
   "metadata": {
    "slideshow": {
     "slide_type": "slide"
    }
   },
   "source": [
    "## A low-level way to create the points\n"
   ]
  },
  {
   "cell_type": "code",
   "execution_count": null,
   "metadata": {},
   "outputs": [],
   "source": [
    "# Doing the same thing  as scalar_scatter in a lower level.\n",
    "mlab.clf()\n",
    "points = np.c_[x,y,z]\n",
    "points.shape\n",
    "mesh = tvtk.PolyData(points=points)\n",
    "verts = np.arange(len(x), dtype=int)\n",
    "verts.shape = 100,1\n",
    "mesh.verts = verts\n",
    "mesh.point_data.scalars = s\n",
    "mesh.point_data.scalars.name = 'temperature'\n",
    "mlab.clf()\n",
    "src = mlab.pipeline.add_dataset(mesh)"
   ]
  },
  {
   "cell_type": "markdown",
   "metadata": {
    "slideshow": {
     "slide_type": "slide"
    }
   },
   "source": [
    "### Example in 3D\n"
   ]
  },
  {
   "cell_type": "code",
   "execution_count": null,
   "metadata": {},
   "outputs": [],
   "source": [
    "# Some random data.\n",
    "import numpy as np\n",
    "n = 1000\n",
    "x, y, z = np.random.random((3, n))\n",
    "s = x*x + y*y + z*z\n",
    "mlab.clf()"
   ]
  },
  {
   "cell_type": "code",
   "execution_count": null,
   "metadata": {
    "slideshow": {
     "slide_type": "slide"
    }
   },
   "outputs": [],
   "source": [
    "src = mlab.pipeline.scalar_scatter(x, y, z, s)"
   ]
  },
  {
   "cell_type": "code",
   "execution_count": null,
   "metadata": {},
   "outputs": [],
   "source": [
    "ug = mlab.pipeline.delaunay3d(src)\n",
    "iso = mlab.pipeline.iso_surface(ug, contours=8)"
   ]
  },
  {
   "cell_type": "markdown",
   "metadata": {
    "slideshow": {
     "slide_type": "slide"
    }
   },
   "source": [
    "## Exercise\n",
    "\n",
    "Modify the above 3D example to construct the points in all quadrants, the\n",
    "current set of points only lie in the first quadrant since $0 < x,y,z <\n",
    "1$.\n"
   ]
  },
  {
   "cell_type": "code",
   "execution_count": null,
   "metadata": {},
   "outputs": [],
   "source": [
    "# Your code here!"
   ]
  }
 ],
 "metadata": {
  "kernelspec": {
   "display_name": "Python 3",
   "language": "python",
   "name": "python3"
  },
  "language_info": {
   "codemirror_mode": {
    "name": "ipython",
    "version": 3
   },
   "file_extension": ".py",
   "mimetype": "text/x-python",
   "name": "python",
   "nbconvert_exporter": "python",
   "pygments_lexer": "ipython3",
   "version": "3.6.0"
  }
 },
 "nbformat": 4,
 "nbformat_minor": 2
}
