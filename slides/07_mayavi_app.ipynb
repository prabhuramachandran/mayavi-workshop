{
 "cells": [
  {
   "cell_type": "markdown",
   "metadata": {
    "slideshow": {
     "slide_type": "slide"
    }
   },
   "source": [
    "# The `mayavi2` application\n",
    "\n",
    "**Prabhu Ramachandran**\n",
    "\n",
    "**Department of Aerospace Engineering, IIT Bombay**\n",
    "<br/>\n"
   ]
  },
  {
   "cell_type": "markdown",
   "metadata": {
    "slideshow": {
     "slide_type": "slide"
    }
   },
   "source": [
    "## Outline\n",
    "\n",
    "- Overview\n",
    "- UI features\n",
    "- Command line arguments\n",
    "- `mlab` integration\n",
    "- Sources/Modules/Filter outline\n"
   ]
  },
  {
   "cell_type": "markdown",
   "metadata": {
    "slideshow": {
     "slide_type": "slide"
    }
   },
   "source": [
    "## Introduction\n",
    "\n",
    "* Visualization without scripting\n",
    "\n",
    "* Especially useful with data files\n",
    "\n",
    "* Can be scripted\n",
    "\n",
    "* Supports `mlab`\n"
   ]
  },
  {
   "cell_type": "markdown",
   "metadata": {
    "slideshow": {
     "slide_type": "slide"
    }
   },
   "source": [
    "<img height=\"100%\" src=\"MEDIA/m2/m2_app3_3.png\"/>\n"
   ]
  },
  {
   "cell_type": "markdown",
   "metadata": {
    "slideshow": {
     "slide_type": "slide"
    }
   },
   "source": [
    "## Features\n",
    "\n",
    "* Complete UI\n",
    "* Powerful command line options\n",
    "* Embedded Python\n",
    "* Fully scriptable\n",
    "* Reads different file formats\n",
    "* Drag-drop onto shell\n",
    "* Script recording\n",
    "* Extensible\n",
    "* Plug-in design using Envisage\n"
   ]
  },
  {
   "cell_type": "markdown",
   "metadata": {
    "slideshow": {
     "slide_type": "slide"
    }
   },
   "source": [
    "## UI features\n"
   ]
  },
  {
   "cell_type": "markdown",
   "metadata": {
    "slideshow": {
     "slide_type": "slide"
    }
   },
   "source": [
    "## Demo of UI features\n",
    "\n",
    "* Basic UI\n",
    "\n",
    "* Python shell integration\n",
    "\n",
    "* Time-series support\n",
    "\n",
    "* Script recording\n"
   ]
  },
  {
   "cell_type": "markdown",
   "metadata": {
    "slideshow": {
     "slide_type": "slide"
    }
   },
   "source": [
    "## Command line arguments\n",
    "### Overview\n"
   ]
  },
  {
   "cell_type": "code",
   "execution_count": null,
   "metadata": {},
   "outputs": [],
   "source": [
    "!mayavi2 -h"
   ]
  },
  {
   "cell_type": "markdown",
   "metadata": {},
   "source": [
    "* `-d datafile.ext` : Load data file\n",
    "\n",
    "* `-f FilterName` : Load filter\n",
    "\n",
    "* `-m ModuleName` : Load module\n",
    "\n",
    "* `-s python-string` : Evaluate Python expression\n",
    "\n",
    "* `-x file.py` : Execute Python code\n"
   ]
  },
  {
   "cell_type": "markdown",
   "metadata": {
    "slideshow": {
     "slide_type": "slide"
    }
   },
   "source": [
    "## Advanced options\n",
    "\n",
    "* `-n` : new scene\n",
    "\n",
    "* `-M` : new module manager\n",
    "\n",
    "* `-o` : offscreen mode\n",
    "\n",
    "* `-z filename` : load saved visualization\n"
   ]
  },
  {
   "cell_type": "markdown",
   "metadata": {
    "slideshow": {
     "slide_type": "slide"
    }
   },
   "source": [
    "## Simple example\n"
   ]
  },
  {
   "cell_type": "code",
   "execution_count": null,
   "metadata": {},
   "outputs": [],
   "source": [
    "%cd data"
   ]
  },
  {
   "cell_type": "code",
   "execution_count": null,
   "metadata": {},
   "outputs": [],
   "source": [
    "!mayavi2 -d room_vis.wrl -d fire_ug.vtu -m Outline  -m ScalarCutPlane"
   ]
  },
  {
   "cell_type": "markdown",
   "metadata": {
    "slideshow": {
     "slide_type": "slide"
    }
   },
   "source": [
    "## Scripting from the command line\n",
    "\n",
    "* `-s python-code`  is very powerful\n",
    "\n",
    "* Takes Python expressions\n",
    "\n",
    "* Applies to the last module/filter\n",
    "\n",
    "* Can be called multiple times\n"
   ]
  },
  {
   "cell_type": "markdown",
   "metadata": {
    "slideshow": {
     "slide_type": "slide"
    }
   },
   "source": [
    "## An example\n"
   ]
  },
  {
   "cell_type": "code",
   "execution_count": null,
   "metadata": {},
   "outputs": [],
   "source": [
    "!mayavi2 -d fire_ug.vtu -m Outline -s \"actor.property.color = (1,0,0)\" \\\n",
    " -s \"scene.save('test.png', size=(800, 800))\""
   ]
  },
  {
   "cell_type": "markdown",
   "metadata": {
    "slideshow": {
     "slide_type": "slide"
    }
   },
   "source": [
    "## Bit more complex\n"
   ]
  },
  {
   "cell_type": "code",
   "execution_count": null,
   "metadata": {},
   "outputs": [],
   "source": [
    "!mayavi2 -d room_vis.wrl -d fire_ug.vtu \\\n",
    " -m Outline  -m ScalarCutPlane \\\n",
    "-s \"enable_contours = True\" \\\n",
    "-s \"implicit_plane.widget.normal_to_z_axis=1\""
   ]
  },
  {
   "cell_type": "markdown",
   "metadata": {
    "slideshow": {
     "slide_type": "slide"
    }
   },
   "source": [
    "## Exercise\n",
    "\n",
    "* Visualize the `fire_ug.vtu`  dataset along with the\n",
    "  `room_vis.wrl`  file\n",
    "\n",
    "* Use one scalar cut plane with its normal along the y axis\n",
    "\n",
    "* Add an iso-contour with the temperature set to 400.\n",
    "\n",
    "* Do all these from the command line\n",
    "\n",
    "* Hint: use the embedded Python shell in the app\n",
    "\n",
    "* Hint: use script recording\n"
   ]
  },
  {
   "cell_type": "markdown",
   "metadata": {
    "slideshow": {
     "slide_type": "slide"
    }
   },
   "source": [
    "## Solution\n"
   ]
  },
  {
   "cell_type": "code",
   "execution_count": null,
   "metadata": {},
   "outputs": [],
   "source": [
    "!mayavi2 -d room_vis.wrl -d fire_ug.vtu \\\n",
    " -m Outline  -m ScalarCutPlane \\\n",
    "-s \"enable_contours = True\" \\\n",
    "-s \"implicit_plane.widget.normal_to_y_axis=1\" \\\n",
    "-m IsoSurface \\\n",
    "-s \"contour.contours=[400]\""
   ]
  },
  {
   "cell_type": "markdown",
   "metadata": {
    "slideshow": {
     "slide_type": "slide"
    }
   },
   "source": [
    "## `mlab` integration\n"
   ]
  },
  {
   "cell_type": "markdown",
   "metadata": {
    "slideshow": {
     "slide_type": "slide"
    }
   },
   "source": [
    "## Using `mlab`\n",
    "\n",
    "* Can import and use mlab\n",
    "\n",
    "* Opening data: `mlab.pipeline.open`\n",
    "* Add dataset: `mlab.pipeline.add_dataset`\n",
    "* Use `lower_case_with_underscores`\n",
    "* So `ScalarCutPlane`  $\\rightarrow$ `mlab.pipeline.scalar_cut_plane`\n"
   ]
  }
 ],
 "metadata": {
  "celltoolbar": "Slideshow",
  "kernelspec": {
   "display_name": "Python 3",
   "language": "python",
   "name": "python3"
  },
  "language_info": {
   "codemirror_mode": {
    "name": "ipython",
    "version": 3
   },
   "file_extension": ".py",
   "mimetype": "text/x-python",
   "name": "python",
   "nbconvert_exporter": "python",
   "pygments_lexer": "ipython3",
   "version": "3.6.0"
  },
  "livereveal": {
   "controls": true,
   "help": true,
   "scroll": true,
   "slideNumber": true,
   "transition": "none"
  }
 },
 "nbformat": 4,
 "nbformat_minor": 2
}
